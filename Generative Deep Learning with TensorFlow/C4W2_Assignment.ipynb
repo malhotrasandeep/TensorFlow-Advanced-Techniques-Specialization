{
  "nbformat": 4,
  "nbformat_minor": 0,
  "metadata": {
    "accelerator": "GPU",
    "kernelspec": {
      "display_name": "Python 3",
      "language": "python",
      "name": "python3"
    },
    "language_info": {
      "codemirror_mode": {
        "name": "ipython",
        "version": 3
      },
      "file_extension": ".py",
      "mimetype": "text/x-python",
      "name": "python",
      "nbconvert_exporter": "python",
      "pygments_lexer": "ipython3",
      "version": "3.7.4"
    },
    "colab": {
      "name": "C4W2_Assignment.ipynb",
      "provenance": [],
      "collapsed_sections": [],
      "toc_visible": true
    }
  },
  "cells": [
    {
      "cell_type": "markdown",
      "metadata": {
        "id": "L6S2HVAkSt0p"
      },
      "source": [
        "# Week 2 Assignment: CIFAR-10 Autoencoder\n",
        "\n",
        "For this week, you will create a convolutional autoencoder for the [CIFAR10](https://www.tensorflow.org/datasets/catalog/cifar10) dataset. You are free to choose the architecture of your autoencoder provided that the output image has the same dimensions as the input image.\n",
        "\n",
        "After training, your model should meet loss and accuracy requirements when evaluated with the test dataset. You will then download the model and upload it in the classroom for grading. \n",
        "\n",
        "Let's begin!"
      ]
    },
    {
      "cell_type": "markdown",
      "metadata": {
        "id": "6r4iPr2jyisR"
      },
      "source": [
        "***Important:*** *This colab notebook has read-only access so you won't be able to save your changes. If you want to save your work periodically, please click `File -> Save a Copy in Drive` to create a copy in your account, then work from there.*  "
      ]
    },
    {
      "cell_type": "markdown",
      "metadata": {
        "id": "g1mzy2J8_nc1"
      },
      "source": [
        "## Imports"
      ]
    },
    {
      "cell_type": "code",
      "metadata": {
        "id": "3EXwoz-KHtWO"
      },
      "source": [
        "try:\n",
        "  # %tensorflow_version only exists in Colab.\n",
        "  %tensorflow_version 2.x\n",
        "except Exception:\n",
        "  pass\n",
        "\n",
        "import tensorflow as tf\n",
        "import tensorflow_datasets as tfds\n",
        "\n",
        "from keras.models import Sequential"
      ],
      "execution_count": 1,
      "outputs": []
    },
    {
      "cell_type": "markdown",
      "metadata": {
        "id": "n2Gs6Lyc_pd0"
      },
      "source": [
        "## Load and prepare the dataset\n",
        "\n",
        "The [CIFAR 10](https://www.tensorflow.org/datasets/catalog/cifar10) dataset already has train and test splits and you can use those in this exercise. Here are the general steps:\n",
        "\n",
        "* Load the train/test split from TFDS. Set `as_supervised` to `True` so it will be convenient to use the preprocessing function we provided.\n",
        "* Normalize the pixel values to the range [0,1], then return `image, image` pairs for training instead of `image, label`. This is because you will check if the output image is successfully regenerated after going through your autoencoder.\n",
        "* Shuffle and batch the train set. Batch the test set (no need to shuffle).\n"
      ]
    },
    {
      "cell_type": "code",
      "metadata": {
        "id": "t9F7YsCNIKSA"
      },
      "source": [
        "# preprocessing function\n",
        "def map_image(image, label):\n",
        "  image = tf.cast(image, dtype=tf.float32)\n",
        "  image = image / 255.0\n",
        "\n",
        "  return image, image # dataset label is not used. replaced with the same image input.\n",
        "\n",
        "# parameters\n",
        "BATCH_SIZE = 128\n",
        "SHUFFLE_BUFFER_SIZE = 1024\n",
        "\n",
        "\n",
        "### START CODE HERE (Replace instances of `None` with your code) ###\n",
        "\n",
        "# use tfds.load() to fetch the 'train' split of CIFAR-10\n",
        "train_dataset = tfds.load('cifar10',split='train',as_supervised=True)\n",
        "\n",
        "# preprocess the dataset with the `map_image()` function above\n",
        "train_dataset = train_dataset.map(map_image)\n",
        "\n",
        "# shuffle and batch the dataset\n",
        "train_dataset = train_dataset.shuffle(SHUFFLE_BUFFER_SIZE).batch(BATCH_SIZE)\n",
        "\n",
        "\n",
        "# use tfds.load() to fetch the 'test' split of CIFAR-10\n",
        "test_dataset = tfds.load('cifar10',split='test',as_supervised=True)\n",
        "\n",
        "# preprocess the dataset with the `map_image()` function above\n",
        "test_dataset = test_dataset.map(map_image)\n",
        "\n",
        "# batch the dataset\n",
        "test_dataset = test_dataset.batch(BATCH_SIZE)\n",
        "\n",
        "### END CODE HERE ###"
      ],
      "execution_count": 2,
      "outputs": []
    },
    {
      "cell_type": "markdown",
      "metadata": {
        "id": "rPyOgGJs_t98"
      },
      "source": [
        "## Build the Model\n",
        "\n",
        "Create the autoencoder model. As shown in the lectures, you will want to downsample the image in the encoder layers then upsample it in the decoder path. Note that the output layer should be the same dimensions as the original image. Your input images will have the shape `(32, 32, 3)`. If you deviate from this, your model may not be recognized by the grader and may fail. \n",
        "\n",
        "We included a few hints to use the Sequential API below but feel free to remove it and use the Functional API just like in the ungraded labs if you're more comfortable with it. Another reason to use the latter is if you want to visualize the encoder output. As shown in the ungraded labs, it will be easier to indicate multiple outputs with the Functional API. That is not required for this assignment though so you can just stack layers sequentially if you want a simpler solution."
      ]
    },
    {
      "cell_type": "code",
      "metadata": {
        "id": "Wr-Bok3lRgA3",
        "colab": {
          "base_uri": "https://localhost:8080/"
        },
        "outputId": "68582271-5f1a-4ec6-c6ea-bd40c68425b1"
      },
      "source": [
        "# suggested layers to use. feel free to add or remove as you see fit.\n",
        "from keras.layers import Conv2D, UpSampling2D\n",
        "\n",
        "# use the Sequential API (you can remove if you want to use the Functional API)\n",
        "input = tf.keras.layers.Input(shape=(32,32,3,))\n",
        "\n",
        "### START CODE HERE ###\n",
        "# use `model.add()` to add layers (if using the Sequential API)\n",
        "enc = Conv2D(filters=64, kernel_size=(3,3),activation='relu',padding='same')(input)\n",
        "enc = tf.keras.layers.MaxPooling2D(pool_size=(2,2))(enc)\n",
        "enc = Conv2D(filters=128, kernel_size=(3,3),activation='relu',padding='same')(enc)\n",
        "enc = tf.keras.layers.MaxPooling2D(pool_size=(2,2))(enc)\n",
        "\n",
        "bottleneck = Conv2D(filters=256, kernel_size=(3,3),activation='relu',padding='same')(enc)\n",
        "bottleneck = Conv2D(filters=3, kernel_size=(3,3),activation='sigmoid',padding='same')(bottleneck)\n",
        "\n",
        "dec = Conv2D(filters=128, kernel_size=(3,3),activation='relu',padding='same')(bottleneck)\n",
        "dec = tf.keras.layers.UpSampling2D((2,2))(dec)\n",
        "dec = Conv2D(filters=64, kernel_size=(3,3),activation='relu',padding='same')(dec)\n",
        "dec = tf.keras.layers.UpSampling2D((2,2))(dec)\n",
        "dec = Conv2D(filters=3, kernel_size=(3,3),activation='sigmoid',padding='same')(dec)\n",
        "\n",
        "model = tf.keras.Model(input,dec)\n",
        "\n",
        "### END CODE HERE ###\n",
        "\n",
        "model.summary()"
      ],
      "execution_count": 3,
      "outputs": [
        {
          "output_type": "stream",
          "text": [
            "Model: \"model\"\n",
            "_________________________________________________________________\n",
            "Layer (type)                 Output Shape              Param #   \n",
            "=================================================================\n",
            "input_1 (InputLayer)         [(None, 32, 32, 3)]       0         \n",
            "_________________________________________________________________\n",
            "conv2d (Conv2D)              (None, 32, 32, 64)        1792      \n",
            "_________________________________________________________________\n",
            "max_pooling2d (MaxPooling2D) (None, 16, 16, 64)        0         \n",
            "_________________________________________________________________\n",
            "conv2d_1 (Conv2D)            (None, 16, 16, 128)       73856     \n",
            "_________________________________________________________________\n",
            "max_pooling2d_1 (MaxPooling2 (None, 8, 8, 128)         0         \n",
            "_________________________________________________________________\n",
            "conv2d_2 (Conv2D)            (None, 8, 8, 256)         295168    \n",
            "_________________________________________________________________\n",
            "conv2d_3 (Conv2D)            (None, 8, 8, 3)           6915      \n",
            "_________________________________________________________________\n",
            "conv2d_4 (Conv2D)            (None, 8, 8, 128)         3584      \n",
            "_________________________________________________________________\n",
            "up_sampling2d (UpSampling2D) (None, 16, 16, 128)       0         \n",
            "_________________________________________________________________\n",
            "conv2d_5 (Conv2D)            (None, 16, 16, 64)        73792     \n",
            "_________________________________________________________________\n",
            "up_sampling2d_1 (UpSampling2 (None, 32, 32, 64)        0         \n",
            "_________________________________________________________________\n",
            "conv2d_6 (Conv2D)            (None, 32, 32, 3)         1731      \n",
            "=================================================================\n",
            "Total params: 456,838\n",
            "Trainable params: 456,838\n",
            "Non-trainable params: 0\n",
            "_________________________________________________________________\n"
          ],
          "name": "stdout"
        }
      ]
    },
    {
      "cell_type": "markdown",
      "metadata": {
        "id": "jRWTAijKEVUC"
      },
      "source": [
        "## Configure training parameters\n",
        "\n",
        "We have already provided the optimizer, metrics, and loss in the code below."
      ]
    },
    {
      "cell_type": "code",
      "metadata": {
        "id": "iHIeD9eDETSk"
      },
      "source": [
        "# Please do not change the model.compile() parameters\n",
        "model.compile(optimizer='adam', metrics=['accuracy'], loss='mean_squared_error')"
      ],
      "execution_count": 4,
      "outputs": []
    },
    {
      "cell_type": "markdown",
      "metadata": {
        "id": "tLQPhm1W_8dC"
      },
      "source": [
        "## Training\n",
        "\n",
        "You can now use [model.fit()](https://keras.io/api/models/model_training_apis/#fit-method) to train your model. You will pass in the `train_dataset` and you are free to configure the other parameters. As with any training, you should see the loss generally going down and the accuracy going up with each epoch. If not, please revisit the previous sections to find possible bugs.\n",
        "\n",
        "*Note: If you get a `dataset length is infinite` error. Please check how you defined `train_dataset`. You might have included a [method that repeats the dataset indefinitely](https://www.tensorflow.org/api_docs/python/tf/data/Dataset#repeat).*"
      ]
    },
    {
      "cell_type": "code",
      "metadata": {
        "id": "AMBimOnsRvg0",
        "colab": {
          "base_uri": "https://localhost:8080/"
        },
        "outputId": "0ddf73d3-3bf1-4af7-a879-a1723186e105"
      },
      "source": [
        "# parameters (feel free to change this)\n",
        "train_steps = len(train_dataset) // BATCH_SIZE \n",
        "val_steps = len(test_dataset) // BATCH_SIZE\n",
        "\n",
        "### START CODE HERE ###\n",
        "model.fit(train_dataset,\n",
        "          epochs = 100,\n",
        "          steps_per_epoch = train_steps,\n",
        "          validation_data = test_dataset,\n",
        "          validation_steps = val_steps\n",
        "          )\n",
        "### END CODE HERE ###"
      ],
      "execution_count": 5,
      "outputs": [
        {
          "output_type": "stream",
          "text": [
            "Epoch 1/100\n",
            "3/3 [==============================] - 4s 193ms/step - loss: 0.0627 - accuracy: 0.3719\n",
            "Epoch 2/100\n",
            "3/3 [==============================] - 0s 53ms/step - loss: 0.0607 - accuracy: 0.4555\n",
            "Epoch 3/100\n",
            "3/3 [==============================] - 0s 63ms/step - loss: 0.0600 - accuracy: 0.4723\n",
            "Epoch 4/100\n",
            "3/3 [==============================] - 0s 54ms/step - loss: 0.0543 - accuracy: 0.4116\n",
            "Epoch 5/100\n",
            "3/3 [==============================] - 0s 49ms/step - loss: 0.0512 - accuracy: 0.3938\n",
            "Epoch 6/100\n",
            "3/3 [==============================] - 0s 54ms/step - loss: 0.0487 - accuracy: 0.3761\n",
            "Epoch 7/100\n",
            "3/3 [==============================] - 0s 51ms/step - loss: 0.0445 - accuracy: 0.4183\n",
            "Epoch 8/100\n",
            "3/3 [==============================] - 0s 49ms/step - loss: 0.0451 - accuracy: 0.4898\n",
            "Epoch 9/100\n",
            "3/3 [==============================] - 0s 55ms/step - loss: 0.0419 - accuracy: 0.4619\n",
            "Epoch 10/100\n",
            "3/3 [==============================] - 0s 54ms/step - loss: 0.0409 - accuracy: 0.5071\n",
            "Epoch 11/100\n",
            "3/3 [==============================] - 0s 51ms/step - loss: 0.0382 - accuracy: 0.5291\n",
            "Epoch 12/100\n",
            "3/3 [==============================] - 0s 54ms/step - loss: 0.0330 - accuracy: 0.5239\n",
            "Epoch 13/100\n",
            "3/3 [==============================] - 0s 50ms/step - loss: 0.0289 - accuracy: 0.4625\n",
            "Epoch 14/100\n",
            "3/3 [==============================] - 0s 51ms/step - loss: 0.0293 - accuracy: 0.4432\n",
            "Epoch 15/100\n",
            "3/3 [==============================] - 0s 52ms/step - loss: 0.0254 - accuracy: 0.4026\n",
            "Epoch 16/100\n",
            "3/3 [==============================] - 0s 53ms/step - loss: 0.0259 - accuracy: 0.4614\n",
            "Epoch 17/100\n",
            "3/3 [==============================] - 0s 55ms/step - loss: 0.0236 - accuracy: 0.5144\n",
            "Epoch 18/100\n",
            "3/3 [==============================] - 0s 55ms/step - loss: 0.0243 - accuracy: 0.4902\n",
            "Epoch 19/100\n",
            "3/3 [==============================] - 0s 50ms/step - loss: 0.0210 - accuracy: 0.4677\n",
            "Epoch 20/100\n",
            "3/3 [==============================] - 0s 52ms/step - loss: 0.0199 - accuracy: 0.4864\n",
            "Epoch 21/100\n",
            "3/3 [==============================] - 0s 54ms/step - loss: 0.0196 - accuracy: 0.4825\n",
            "Epoch 22/100\n",
            "3/3 [==============================] - 0s 54ms/step - loss: 0.0186 - accuracy: 0.4383\n",
            "Epoch 23/100\n",
            "3/3 [==============================] - 0s 51ms/step - loss: 0.0191 - accuracy: 0.4506\n",
            "Epoch 24/100\n",
            "3/3 [==============================] - 0s 56ms/step - loss: 0.0171 - accuracy: 0.5150\n",
            "Epoch 25/100\n",
            "3/3 [==============================] - 0s 57ms/step - loss: 0.0174 - accuracy: 0.5051\n",
            "Epoch 26/100\n",
            "3/3 [==============================] - 0s 51ms/step - loss: 0.0171 - accuracy: 0.4576\n",
            "Epoch 27/100\n",
            "3/3 [==============================] - 0s 54ms/step - loss: 0.0170 - accuracy: 0.3841\n",
            "Epoch 28/100\n",
            "3/3 [==============================] - 0s 51ms/step - loss: 0.0164 - accuracy: 0.4936\n",
            "Epoch 29/100\n",
            "3/3 [==============================] - 0s 52ms/step - loss: 0.0163 - accuracy: 0.4575\n",
            "Epoch 30/100\n",
            "3/3 [==============================] - 0s 51ms/step - loss: 0.0155 - accuracy: 0.3894\n",
            "Epoch 31/100\n",
            "3/3 [==============================] - 0s 55ms/step - loss: 0.0151 - accuracy: 0.5014\n",
            "Epoch 32/100\n",
            "3/3 [==============================] - 0s 53ms/step - loss: 0.0149 - accuracy: 0.5309\n",
            "Epoch 33/100\n",
            "3/3 [==============================] - 0s 52ms/step - loss: 0.0137 - accuracy: 0.5481\n",
            "Epoch 34/100\n",
            "3/3 [==============================] - 0s 50ms/step - loss: 0.0130 - accuracy: 0.5548\n",
            "Epoch 35/100\n",
            "3/3 [==============================] - 0s 54ms/step - loss: 0.0144 - accuracy: 0.5835\n",
            "Epoch 36/100\n",
            "3/3 [==============================] - 0s 52ms/step - loss: 0.0253 - accuracy: 0.6048\n",
            "Epoch 37/100\n",
            "3/3 [==============================] - 0s 54ms/step - loss: 0.0168 - accuracy: 0.5443\n",
            "Epoch 38/100\n",
            "3/3 [==============================] - 0s 54ms/step - loss: 0.0165 - accuracy: 0.5533\n",
            "Epoch 39/100\n",
            "3/3 [==============================] - 0s 57ms/step - loss: 0.0142 - accuracy: 0.5037\n",
            "Epoch 40/100\n",
            "3/3 [==============================] - 0s 57ms/step - loss: 0.0149 - accuracy: 0.5007\n",
            "Epoch 41/100\n",
            "3/3 [==============================] - 0s 56ms/step - loss: 0.0145 - accuracy: 0.5351\n",
            "Epoch 42/100\n",
            "3/3 [==============================] - 0s 50ms/step - loss: 0.0138 - accuracy: 0.5221\n",
            "Epoch 43/100\n",
            "3/3 [==============================] - 0s 55ms/step - loss: 0.0142 - accuracy: 0.5789\n",
            "Epoch 44/100\n",
            "3/3 [==============================] - 0s 53ms/step - loss: 0.0131 - accuracy: 0.5933\n",
            "Epoch 45/100\n",
            "3/3 [==============================] - 0s 50ms/step - loss: 0.0130 - accuracy: 0.5511\n",
            "Epoch 46/100\n",
            "3/3 [==============================] - 0s 53ms/step - loss: 0.0125 - accuracy: 0.6021\n",
            "Epoch 47/100\n",
            "3/3 [==============================] - 0s 51ms/step - loss: 0.0121 - accuracy: 0.6167\n",
            "Epoch 48/100\n",
            "3/3 [==============================] - 0s 54ms/step - loss: 0.0117 - accuracy: 0.6425\n",
            "Epoch 49/100\n",
            "3/3 [==============================] - 0s 53ms/step - loss: 0.0117 - accuracy: 0.5993\n",
            "Epoch 50/100\n",
            "3/3 [==============================] - 0s 50ms/step - loss: 0.0121 - accuracy: 0.6144\n",
            "Epoch 51/100\n",
            "3/3 [==============================] - 0s 57ms/step - loss: 0.0123 - accuracy: 0.6245\n",
            "Epoch 52/100\n",
            "3/3 [==============================] - 0s 52ms/step - loss: 0.0113 - accuracy: 0.6351\n",
            "Epoch 53/100\n",
            "3/3 [==============================] - 0s 51ms/step - loss: 0.0115 - accuracy: 0.5886\n",
            "Epoch 54/100\n",
            "3/3 [==============================] - 0s 51ms/step - loss: 0.0109 - accuracy: 0.5772\n",
            "Epoch 55/100\n",
            "3/3 [==============================] - 0s 52ms/step - loss: 0.0108 - accuracy: 0.6533\n",
            "Epoch 56/100\n",
            "3/3 [==============================] - 0s 50ms/step - loss: 0.0109 - accuracy: 0.6288\n",
            "Epoch 57/100\n",
            "3/3 [==============================] - 0s 53ms/step - loss: 0.0106 - accuracy: 0.6068\n",
            "Epoch 58/100\n",
            "3/3 [==============================] - 0s 53ms/step - loss: 0.0102 - accuracy: 0.6389\n",
            "Epoch 59/100\n",
            "3/3 [==============================] - 0s 46ms/step - loss: 0.0102 - accuracy: 0.6443\n",
            "Epoch 60/100\n",
            "3/3 [==============================] - 0s 53ms/step - loss: 0.0102 - accuracy: 0.6385\n",
            "Epoch 61/100\n",
            "3/3 [==============================] - 0s 55ms/step - loss: 0.0108 - accuracy: 0.6430\n",
            "Epoch 62/100\n",
            "3/3 [==============================] - 0s 51ms/step - loss: 0.0095 - accuracy: 0.6471\n",
            "Epoch 63/100\n",
            "3/3 [==============================] - 0s 54ms/step - loss: 0.0100 - accuracy: 0.6441\n",
            "Epoch 64/100\n",
            "3/3 [==============================] - 0s 51ms/step - loss: 0.0103 - accuracy: 0.6454\n",
            "Epoch 65/100\n",
            "3/3 [==============================] - 0s 53ms/step - loss: 0.0101 - accuracy: 0.6532\n",
            "Epoch 66/100\n",
            "3/3 [==============================] - 0s 45ms/step - loss: 0.0117 - accuracy: 0.6418\n",
            "Epoch 67/100\n",
            "3/3 [==============================] - 0s 55ms/step - loss: 0.0110 - accuracy: 0.6337\n",
            "Epoch 68/100\n",
            "3/3 [==============================] - 0s 55ms/step - loss: 0.0110 - accuracy: 0.6354\n",
            "Epoch 69/100\n",
            "3/3 [==============================] - 0s 49ms/step - loss: 0.0102 - accuracy: 0.6727\n",
            "Epoch 70/100\n",
            "3/3 [==============================] - 0s 57ms/step - loss: 0.0102 - accuracy: 0.6709\n",
            "Epoch 71/100\n",
            "3/3 [==============================] - 0s 57ms/step - loss: 0.0099 - accuracy: 0.6446\n",
            "Epoch 72/100\n",
            "3/3 [==============================] - 0s 53ms/step - loss: 0.0094 - accuracy: 0.6302\n",
            "Epoch 73/100\n",
            "3/3 [==============================] - 0s 64ms/step - loss: 0.0095 - accuracy: 0.6317\n",
            "Epoch 74/100\n",
            "3/3 [==============================] - 0s 56ms/step - loss: 0.0093 - accuracy: 0.6440\n",
            "Epoch 75/100\n",
            "3/3 [==============================] - 0s 59ms/step - loss: 0.0096 - accuracy: 0.6254\n",
            "Epoch 76/100\n",
            "3/3 [==============================] - 0s 50ms/step - loss: 0.0090 - accuracy: 0.7005\n",
            "Epoch 77/100\n",
            "3/3 [==============================] - 0s 56ms/step - loss: 0.0095 - accuracy: 0.6505\n",
            "Epoch 78/100\n",
            "3/3 [==============================] - 0s 54ms/step - loss: 0.0088 - accuracy: 0.6312\n",
            "Epoch 79/100\n",
            "3/3 [==============================] - 0s 55ms/step - loss: 0.0094 - accuracy: 0.6326\n",
            "Epoch 80/100\n",
            "3/3 [==============================] - 0s 54ms/step - loss: 0.0105 - accuracy: 0.6685\n",
            "Epoch 81/100\n",
            "3/3 [==============================] - 0s 57ms/step - loss: 0.0089 - accuracy: 0.6667\n",
            "Epoch 82/100\n",
            "3/3 [==============================] - 0s 55ms/step - loss: 0.0093 - accuracy: 0.6323\n",
            "Epoch 83/100\n",
            "3/3 [==============================] - 0s 54ms/step - loss: 0.0095 - accuracy: 0.6723\n",
            "Epoch 84/100\n",
            "3/3 [==============================] - 0s 58ms/step - loss: 0.0092 - accuracy: 0.6621\n",
            "Epoch 85/100\n",
            "3/3 [==============================] - 0s 56ms/step - loss: 0.0091 - accuracy: 0.6351\n",
            "Epoch 86/100\n",
            "3/3 [==============================] - 0s 57ms/step - loss: 0.0092 - accuracy: 0.6381\n",
            "Epoch 87/100\n",
            "3/3 [==============================] - 0s 52ms/step - loss: 0.0086 - accuracy: 0.6392\n",
            "Epoch 88/100\n",
            "3/3 [==============================] - 0s 53ms/step - loss: 0.0087 - accuracy: 0.6243\n",
            "Epoch 89/100\n",
            "3/3 [==============================] - 0s 55ms/step - loss: 0.0091 - accuracy: 0.6660\n",
            "Epoch 90/100\n",
            "3/3 [==============================] - 0s 49ms/step - loss: 0.0084 - accuracy: 0.6745\n",
            "Epoch 91/100\n",
            "3/3 [==============================] - 0s 55ms/step - loss: 0.0084 - accuracy: 0.6684\n",
            "Epoch 92/100\n",
            "3/3 [==============================] - 0s 51ms/step - loss: 0.0082 - accuracy: 0.6656\n",
            "Epoch 93/100\n",
            "3/3 [==============================] - 0s 53ms/step - loss: 0.0083 - accuracy: 0.6669\n",
            "Epoch 94/100\n",
            "3/3 [==============================] - 0s 50ms/step - loss: 0.0083 - accuracy: 0.6804\n",
            "Epoch 95/100\n",
            "3/3 [==============================] - 0s 56ms/step - loss: 0.0083 - accuracy: 0.6485\n",
            "Epoch 96/100\n",
            "3/3 [==============================] - 0s 63ms/step - loss: 0.0085 - accuracy: 0.6693\n",
            "Epoch 97/100\n",
            "3/3 [==============================] - 0s 53ms/step - loss: 0.0090 - accuracy: 0.6351\n",
            "Epoch 98/100\n",
            "3/3 [==============================] - 0s 60ms/step - loss: 0.0083 - accuracy: 0.6570\n",
            "Epoch 99/100\n",
            "3/3 [==============================] - 0s 55ms/step - loss: 0.0085 - accuracy: 0.6439\n",
            "Epoch 100/100\n",
            "3/3 [==============================] - 0s 59ms/step - loss: 0.0082 - accuracy: 0.6008\n"
          ],
          "name": "stdout"
        },
        {
          "output_type": "execute_result",
          "data": {
            "text/plain": [
              "<tensorflow.python.keras.callbacks.History at 0x7fc20a6d4d90>"
            ]
          },
          "metadata": {
            "tags": []
          },
          "execution_count": 5
        }
      ]
    },
    {
      "cell_type": "markdown",
      "metadata": {
        "id": "PT2l1c-SAaF4"
      },
      "source": [
        "## Model evaluation\n",
        "\n",
        "You can use this code to test your model locally before uploading to the grader. To pass, your model needs to satisfy these two requirements:\n",
        "\n",
        "* loss must be less than 0.01 \n",
        "* accuracy must be greater than 0.6"
      ]
    },
    {
      "cell_type": "code",
      "metadata": {
        "id": "vFncgqahSQhA",
        "colab": {
          "base_uri": "https://localhost:8080/"
        },
        "outputId": "6a04740a-94ab-4972-ce5d-a35c30b35169"
      },
      "source": [
        "result = model.evaluate(test_dataset, steps=10)"
      ],
      "execution_count": 6,
      "outputs": [
        {
          "output_type": "stream",
          "text": [
            "10/10 [==============================] - 0s 23ms/step - loss: 0.0081 - accuracy: 0.6568\n"
          ],
          "name": "stdout"
        }
      ]
    },
    {
      "cell_type": "markdown",
      "metadata": {
        "id": "di6VOHGwIsVM"
      },
      "source": [
        "If you did some visualization like in the ungraded labs, then you might see something like the gallery below. This part is not required."
      ]
    },
    {
      "cell_type": "markdown",
      "metadata": {
        "id": "wmpI4skkIA5L"
      },
      "source": [
        "<img src=\"https://drive.google.com/uc?export=view&id=12Fy-guiP-3tTPfc9IV2nHhqLvs7LwRo6\" width=\"75%\" height=\"75%\"/>"
      ]
    },
    {
      "cell_type": "markdown",
      "metadata": {
        "id": "uaRSkQPNAPT0"
      },
      "source": [
        "## Save your model\n",
        "\n",
        "Once you are satisfied with the results, you can now save your model. Please download it from the Files window on the left and go back to the Submission portal in Coursera for grading."
      ]
    },
    {
      "cell_type": "code",
      "metadata": {
        "id": "pLFpLP-c7rDR"
      },
      "source": [
        "model.save('mymodel.h5')"
      ],
      "execution_count": 7,
      "outputs": []
    },
    {
      "cell_type": "markdown",
      "metadata": {
        "id": "QArMiXJTDxDe"
      },
      "source": [
        "**Congratulations on completing this week's assignment!**"
      ]
    }
  ]
}